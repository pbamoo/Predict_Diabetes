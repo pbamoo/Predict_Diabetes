{
 "cells": [
  {
   "cell_type": "markdown",
   "metadata": {},
   "source": [
    "### Predicting Diabetes with Multilayer Perceptrons\n",
    "\n",
    "Diabetes is a chronic medical condition that is associated with elevated blood sugar levels in the body. Diabetes often leads to cardiovascular disease, stroke, kidney damage, and long-term damage to the extremities (that is, limbs and eyes).\n",
    "One of the barriers for early detection and diagnosis of diabetes is that the early stages of diabetes are often non-symptomatic. People who are on the path to diabetes (also known as prediabetes) often do not know that they have diabetes until it is too late. How can we use machine learning to address this problem? \n",
    "\n",
    "The goal of this project therefore, is to use AI (machine learning and neural networks) to predict whether a patient is at risk of diabetes."
   ]
  },
  {
   "cell_type": "markdown",
   "metadata": {},
   "source": [
    "### The Diabetes Mellitus Dataset\n",
    "The dataset that we will be using for this project comes from the Pima Indians Diabetes dataset, as provided by the National Institute of Diabetes and Digestive and Kidney Diseases (and hosted by Kaggle).\n",
    "The Pima Indians are a group of native Americans living in Arizona, and they are a highly studied group of people due to their genetic predisposition to diabetes. It is believed that the Pima Indians carry a gene that allows them to survive long periods of starvation. This thrifty gene allowed the Pima Indians to store in their bodies whatever glucose and carbohydrates they may eat, which is genetically advantageous in an environment where famines were common.\n",
    "However, as society modernized and the Pima Indians began to change their diet to one of processed food, the rate of type 2 diabetes among them began to increase as well. Today, the incidence of type 2 diabetes among the Pima Indians is the highest in the world. This makes them a highly studied group of people, as researchers attempt to find the genetic link of diabetes among the Pima Indians.\n",
    "The Pima Indians diabetes dataset consists of diagnostic measurements collected from a sample of female Pima Indians, along with a label indicating whether the patient developed diabetes within five years of the initial measurement. "
   ]
  },
  {
   "cell_type": "markdown",
   "metadata": {},
   "source": [
    "### Import necessary libraries"
   ]
  },
  {
   "cell_type": "code",
   "execution_count": 1,
   "metadata": {},
   "outputs": [],
   "source": [
    "import pandas as pd\n",
    "import numpy as np\n",
    "import matplotlib.pyplot as plt\n",
    "import seaborn as sns\n",
    "import warnings\n",
    "warnings.filterwarnings('ignore')"
   ]
  },
  {
   "cell_type": "markdown",
   "metadata": {},
   "source": [
    "### Exploratory data analysis"
   ]
  },
  {
   "cell_type": "code",
   "execution_count": 2,
   "metadata": {},
   "outputs": [
    {
     "data": {
      "text/html": [
       "<div>\n",
       "<style scoped>\n",
       "    .dataframe tbody tr th:only-of-type {\n",
       "        vertical-align: middle;\n",
       "    }\n",
       "\n",
       "    .dataframe tbody tr th {\n",
       "        vertical-align: top;\n",
       "    }\n",
       "\n",
       "    .dataframe thead th {\n",
       "        text-align: right;\n",
       "    }\n",
       "</style>\n",
       "<table border=\"1\" class=\"dataframe\">\n",
       "  <thead>\n",
       "    <tr style=\"text-align: right;\">\n",
       "      <th></th>\n",
       "      <th>Pregnancies</th>\n",
       "      <th>Glucose</th>\n",
       "      <th>BloodPressure</th>\n",
       "      <th>SkinThickness</th>\n",
       "      <th>Insulin</th>\n",
       "      <th>BMI</th>\n",
       "      <th>DiabetesPedigreeFunction</th>\n",
       "      <th>Age</th>\n",
       "      <th>Outcome</th>\n",
       "    </tr>\n",
       "  </thead>\n",
       "  <tbody>\n",
       "    <tr>\n",
       "      <th>0</th>\n",
       "      <td>6</td>\n",
       "      <td>148</td>\n",
       "      <td>72</td>\n",
       "      <td>35</td>\n",
       "      <td>0</td>\n",
       "      <td>33.6</td>\n",
       "      <td>0.627</td>\n",
       "      <td>50</td>\n",
       "      <td>1</td>\n",
       "    </tr>\n",
       "    <tr>\n",
       "      <th>1</th>\n",
       "      <td>1</td>\n",
       "      <td>85</td>\n",
       "      <td>66</td>\n",
       "      <td>29</td>\n",
       "      <td>0</td>\n",
       "      <td>26.6</td>\n",
       "      <td>0.351</td>\n",
       "      <td>31</td>\n",
       "      <td>0</td>\n",
       "    </tr>\n",
       "    <tr>\n",
       "      <th>2</th>\n",
       "      <td>8</td>\n",
       "      <td>183</td>\n",
       "      <td>64</td>\n",
       "      <td>0</td>\n",
       "      <td>0</td>\n",
       "      <td>23.3</td>\n",
       "      <td>0.672</td>\n",
       "      <td>32</td>\n",
       "      <td>1</td>\n",
       "    </tr>\n",
       "    <tr>\n",
       "      <th>3</th>\n",
       "      <td>1</td>\n",
       "      <td>89</td>\n",
       "      <td>66</td>\n",
       "      <td>23</td>\n",
       "      <td>94</td>\n",
       "      <td>28.1</td>\n",
       "      <td>0.167</td>\n",
       "      <td>21</td>\n",
       "      <td>0</td>\n",
       "    </tr>\n",
       "    <tr>\n",
       "      <th>4</th>\n",
       "      <td>0</td>\n",
       "      <td>137</td>\n",
       "      <td>40</td>\n",
       "      <td>35</td>\n",
       "      <td>168</td>\n",
       "      <td>43.1</td>\n",
       "      <td>2.288</td>\n",
       "      <td>33</td>\n",
       "      <td>1</td>\n",
       "    </tr>\n",
       "    <tr>\n",
       "      <th>...</th>\n",
       "      <td>...</td>\n",
       "      <td>...</td>\n",
       "      <td>...</td>\n",
       "      <td>...</td>\n",
       "      <td>...</td>\n",
       "      <td>...</td>\n",
       "      <td>...</td>\n",
       "      <td>...</td>\n",
       "      <td>...</td>\n",
       "    </tr>\n",
       "    <tr>\n",
       "      <th>763</th>\n",
       "      <td>10</td>\n",
       "      <td>101</td>\n",
       "      <td>76</td>\n",
       "      <td>48</td>\n",
       "      <td>180</td>\n",
       "      <td>32.9</td>\n",
       "      <td>0.171</td>\n",
       "      <td>63</td>\n",
       "      <td>0</td>\n",
       "    </tr>\n",
       "    <tr>\n",
       "      <th>764</th>\n",
       "      <td>2</td>\n",
       "      <td>122</td>\n",
       "      <td>70</td>\n",
       "      <td>27</td>\n",
       "      <td>0</td>\n",
       "      <td>36.8</td>\n",
       "      <td>0.340</td>\n",
       "      <td>27</td>\n",
       "      <td>0</td>\n",
       "    </tr>\n",
       "    <tr>\n",
       "      <th>765</th>\n",
       "      <td>5</td>\n",
       "      <td>121</td>\n",
       "      <td>72</td>\n",
       "      <td>23</td>\n",
       "      <td>112</td>\n",
       "      <td>26.2</td>\n",
       "      <td>0.245</td>\n",
       "      <td>30</td>\n",
       "      <td>0</td>\n",
       "    </tr>\n",
       "    <tr>\n",
       "      <th>766</th>\n",
       "      <td>1</td>\n",
       "      <td>126</td>\n",
       "      <td>60</td>\n",
       "      <td>0</td>\n",
       "      <td>0</td>\n",
       "      <td>30.1</td>\n",
       "      <td>0.349</td>\n",
       "      <td>47</td>\n",
       "      <td>1</td>\n",
       "    </tr>\n",
       "    <tr>\n",
       "      <th>767</th>\n",
       "      <td>1</td>\n",
       "      <td>93</td>\n",
       "      <td>70</td>\n",
       "      <td>31</td>\n",
       "      <td>0</td>\n",
       "      <td>30.4</td>\n",
       "      <td>0.315</td>\n",
       "      <td>23</td>\n",
       "      <td>0</td>\n",
       "    </tr>\n",
       "  </tbody>\n",
       "</table>\n",
       "<p>768 rows × 9 columns</p>\n",
       "</div>"
      ],
      "text/plain": [
       "     Pregnancies  Glucose  BloodPressure  SkinThickness  Insulin   BMI  \\\n",
       "0              6      148             72             35        0  33.6   \n",
       "1              1       85             66             29        0  26.6   \n",
       "2              8      183             64              0        0  23.3   \n",
       "3              1       89             66             23       94  28.1   \n",
       "4              0      137             40             35      168  43.1   \n",
       "..           ...      ...            ...            ...      ...   ...   \n",
       "763           10      101             76             48      180  32.9   \n",
       "764            2      122             70             27        0  36.8   \n",
       "765            5      121             72             23      112  26.2   \n",
       "766            1      126             60              0        0  30.1   \n",
       "767            1       93             70             31        0  30.4   \n",
       "\n",
       "     DiabetesPedigreeFunction  Age  Outcome  \n",
       "0                       0.627   50        1  \n",
       "1                       0.351   31        0  \n",
       "2                       0.672   32        1  \n",
       "3                       0.167   21        0  \n",
       "4                       2.288   33        1  \n",
       "..                        ...  ...      ...  \n",
       "763                     0.171   63        0  \n",
       "764                     0.340   27        0  \n",
       "765                     0.245   30        0  \n",
       "766                     0.349   47        1  \n",
       "767                     0.315   23        0  \n",
       "\n",
       "[768 rows x 9 columns]"
      ]
     },
     "execution_count": 2,
     "metadata": {},
     "output_type": "execute_result"
    }
   ],
   "source": [
    "#import the dataset into pandas:\n",
    "\n",
    "import pandas as pd\n",
    "\n",
    "df = pd.read_csv('diabetes.csv')\n",
    "df"
   ]
  },
  {
   "cell_type": "markdown",
   "metadata": {},
   "source": [
    "From above, there are 768 rows and  9 columns in the dataset. These are the column variable definitions:\n",
    "\n",
    "* Pregnancies: Number of previous pregnancies \n",
    "* Glucose: Plasma glucose concentration\n",
    "* BloodPressure: Diastolic blood pressure\n",
    "* SkinThickness: Skin fold thickness measured from the triceps\n",
    "* Insulin : Blood serum insulin concentration\n",
    "* BMI: Body mass index\n",
    "* DiabetesPedigreeFunction: A summarized score that indicates the genetic predisposition of the patient for diabetes, as extrapolated from the patient's family record for diabetes\n",
    "* Age: Age in years\n",
    "* Outcome: The target variable we are trying to predict, 1 for patients that developed diabetes within five years of the initial measurement, and 0 otherwise"
   ]
  },
  {
   "cell_type": "code",
   "execution_count": 3,
   "metadata": {},
   "outputs": [
    {
     "data": {
      "image/png": "[encoded data removed]",
      "text/plain": [
       "<Figure size 1440x1080 with 9 Axes>"
      ]
     },
     "metadata": {
      "needs_background": "light"
     },
     "output_type": "display_data"
    }
   ],
   "source": [
    "#visualizing the distribution of the nine variables in the dataset. \n",
    "from matplotlib import pyplot as plt \n",
    "\n",
    "fig = plt.figure(figsize = (20,15))\n",
    "ax = fig.gca()\n",
    "df.hist(ax = ax)\n",
    "plt.savefig('Images/Histogram',dpi=150)"
   ]
  },
  {
   "cell_type": "markdown",
   "metadata": {},
   "source": [
    "The histogram provides some interesting insights into the data. \n",
    "* From the histogram for Age, we can see that most of the data was collected from young people, with the most common age group between 20-30 years old. \n",
    "* We can also see that the distribution for BMI, BloodPressure, and Glucose concentration is normally distributed (that is, a bell curve shape), which is what we we expect when we collect such statistics from a population. \n",
    "* It appears that there are people with plasma Glucose concentration that is almost 200, & others with 0 values for BMI, BloodPressure, and Glucose which are extreme and logically impossible for these measurements.\n",
    "* We can see that some patients had more than 15 previous pregnancies, while that may not be entirely surprising, we should keep such outliers in mind when we do our analysis, as it can skew our results.\n",
    "* The distribution of outcome shows that approximately 65% of the population belongs to class 0 (no diabetes), while the remaining 35% belongs to class 1 (diabetes).\n",
    "* Lastly, it is important to note that the variables are on different scales which can cause problems in training our neural network, as variables with larger scales tend to dominate variables with smaller scales and will therefore need to standardize the variables."
   ]
  },
  {
   "cell_type": "code",
   "execution_count": 4,
   "metadata": {},
   "outputs": [
    {
     "data": {
      "image/png": "[encoded data removed]",
      "text/plain": [
       "<Figure size 1080x1080 with 9 Axes>"
      ]
     },
     "metadata": {
      "needs_background": "light"
     },
     "output_type": "display_data"
    }
   ],
   "source": [
    "#visualize the difference in distribution between diabetics and non-diabetics\n",
    "\n",
    "import seaborn as sns\n",
    "\n",
    "##### create a subplot of 3 x 3\n",
    "plt.subplots(3,3,figsize=(15,15))\n",
    "\n",
    "##### Plot a density plot for each variable\n",
    "for idx, col in enumerate(df.columns):\n",
    "    ax = plt.subplot(3,3,idx+1)\n",
    "    ax.yaxis.set_ticklabels([])\n",
    "    sns.distplot(df.loc[df.Outcome == 0][col], hist=False, axlabel= False, \n",
    "    kde_kws={'linestyle':'-',  \n",
    "    'color':'black', 'label':\"No Diabetes\"})\n",
    "    sns.distplot(df.loc[df.Outcome == 1][col], hist=False, axlabel= False, \n",
    "    kde_kws={'linestyle':'--', \n",
    "    'color':'black', 'label':\"Diabetes\"})\n",
    "    ax.set_title(col)\n",
    "\n",
    "###### Hide the 9th subplot (bottom right) since there are only 8 plots\n",
    "plt.subplot(3,3,9).set_visible(False)\n",
    "plt.savefig('Images/Density_plot',dpi=150)\n",
    "plt.show()"
   ]
  },
  {
   "cell_type": "markdown",
   "metadata": {},
   "source": [
    "If we look at the plot for the Glucose variable, we can see that among the non-diabetics (solid line), the curve has a normal distribution centered around the value 100. This tells us that among non-diabetics, most people have a blood glucose value of 100 mg/dL. On the other hand, if we look at the Diabetics (dashed line), the curve is wider and is centered around a value of 150. This tells us that diabetics tends to have a wider range of blood glucose value, and the average blood glucose value is around 150 mg/dL. Therefore, there is a significant difference in blood glucose values for diabetes vs non-diabetics.  A similar analysis can also be made for the variable BMI and Age. In other words, the Glucose, BMI, and Age variables are strong predictors for diabetes. People with diabetes tend to have higher blood glucose level, higher BMI, and are older.\n",
    "\n",
    "On the other hand, we can see that for variables such as BloodPressure and SkinThickness, there is no significant difference in the distribution between diabetics and non-diabetics. The two groups of people tend to have similar blood pressure and skin thickness values. Therefore, BloodPressure and SkinThickness are poorer predictors for diabetes."
   ]
  },
  {
   "cell_type": "markdown",
   "metadata": {},
   "source": [
    "### Data preprocessing"
   ]
  },
  {
   "cell_type": "markdown",
   "metadata": {},
   "source": [
    "#### Handling missing values\n",
    "There are several techniques to handle missing values:\n",
    "\n",
    "* Remove (discard) any rows with missing values.\n",
    "* Replace the missing values with the mean/median/mode of the non-missing values.\n",
    "* Predict the actual values using a separate machine learning model."
   ]
  },
  {
   "cell_type": "code",
   "execution_count": 5,
   "metadata": {
    "scrolled": true
   },
   "outputs": [
    {
     "name": "stdout",
     "output_type": "stream",
     "text": [
      "<class 'pandas.core.frame.DataFrame'>\n",
      "RangeIndex: 768 entries, 0 to 767\n",
      "Data columns (total 9 columns):\n",
      " #   Column                    Non-Null Count  Dtype  \n",
      "---  ------                    --------------  -----  \n",
      " 0   Pregnancies               768 non-null    int64  \n",
      " 1   Glucose                   768 non-null    int64  \n",
      " 2   BloodPressure             768 non-null    int64  \n",
      " 3   SkinThickness             768 non-null    int64  \n",
      " 4   Insulin                   768 non-null    int64  \n",
      " 5   BMI                       768 non-null    float64\n",
      " 6   DiabetesPedigreeFunction  768 non-null    float64\n",
      " 7   Age                       768 non-null    int64  \n",
      " 8   Outcome                   768 non-null    int64  \n",
      "dtypes: float64(2), int64(7)\n",
      "memory usage: 54.1 KB\n"
     ]
    }
   ],
   "source": [
    "df.info()"
   ]
  },
  {
   "cell_type": "code",
   "execution_count": 6,
   "metadata": {
    "scrolled": false
   },
   "outputs": [
    {
     "data": {
      "text/plain": [
       "Pregnancies                 False\n",
       "Glucose                     False\n",
       "BloodPressure               False\n",
       "SkinThickness               False\n",
       "Insulin                     False\n",
       "BMI                         False\n",
       "DiabetesPedigreeFunction    False\n",
       "Age                         False\n",
       "Outcome                     False\n",
       "dtype: bool"
      ]
     },
     "execution_count": 6,
     "metadata": {},
     "output_type": "execute_result"
    }
   ],
   "source": [
    "df.isnull().any()"
   ]
  },
  {
   "cell_type": "markdown",
   "metadata": {},
   "source": [
    "The above tells us that there aren't any missing values which we already know from the EDA isn't true, so lets look at statistical summary of the dataset to investigate further:"
   ]
  },
  {
   "cell_type": "code",
   "execution_count": 7,
   "metadata": {},
   "outputs": [
    {
     "data": {
      "text/html": [
       "<div>\n",
       "<style scoped>\n",
       "    .dataframe tbody tr th:only-of-type {\n",
       "        vertical-align: middle;\n",
       "    }\n",
       "\n",
       "    .dataframe tbody tr th {\n",
       "        vertical-align: top;\n",
       "    }\n",
       "\n",
       "    .dataframe thead th {\n",
       "        text-align: right;\n",
       "    }\n",
       "</style>\n",
       "<table border=\"1\" class=\"dataframe\">\n",
       "  <thead>\n",
       "    <tr style=\"text-align: right;\">\n",
       "      <th></th>\n",
       "      <th>Pregnancies</th>\n",
       "      <th>Glucose</th>\n",
       "      <th>BloodPressure</th>\n",
       "      <th>SkinThickness</th>\n",
       "      <th>Insulin</th>\n",
       "      <th>BMI</th>\n",
       "      <th>DiabetesPedigreeFunction</th>\n",
       "      <th>Age</th>\n",
       "      <th>Outcome</th>\n",
       "    </tr>\n",
       "  </thead>\n",
       "  <tbody>\n",
       "    <tr>\n",
       "      <th>count</th>\n",
       "      <td>768.000000</td>\n",
       "      <td>768.000000</td>\n",
       "      <td>768.000000</td>\n",
       "      <td>768.000000</td>\n",
       "      <td>768.000000</td>\n",
       "      <td>768.000000</td>\n",
       "      <td>768.000000</td>\n",
       "      <td>768.000000</td>\n",
       "      <td>768.000000</td>\n",
       "    </tr>\n",
       "    <tr>\n",
       "      <th>mean</th>\n",
       "      <td>3.845052</td>\n",
       "      <td>120.894531</td>\n",
       "      <td>69.105469</td>\n",
       "      <td>20.536458</td>\n",
       "      <td>79.799479</td>\n",
       "      <td>31.992578</td>\n",
       "      <td>0.471876</td>\n",
       "      <td>33.240885</td>\n",
       "      <td>0.348958</td>\n",
       "    </tr>\n",
       "    <tr>\n",
       "      <th>std</th>\n",
       "      <td>3.369578</td>\n",
       "      <td>31.972618</td>\n",
       "      <td>19.355807</td>\n",
       "      <td>15.952218</td>\n",
       "      <td>115.244002</td>\n",
       "      <td>7.884160</td>\n",
       "      <td>0.331329</td>\n",
       "      <td>11.760232</td>\n",
       "      <td>0.476951</td>\n",
       "    </tr>\n",
       "    <tr>\n",
       "      <th>min</th>\n",
       "      <td>0.000000</td>\n",
       "      <td>0.000000</td>\n",
       "      <td>0.000000</td>\n",
       "      <td>0.000000</td>\n",
       "      <td>0.000000</td>\n",
       "      <td>0.000000</td>\n",
       "      <td>0.078000</td>\n",
       "      <td>21.000000</td>\n",
       "      <td>0.000000</td>\n",
       "    </tr>\n",
       "    <tr>\n",
       "      <th>25%</th>\n",
       "      <td>1.000000</td>\n",
       "      <td>99.000000</td>\n",
       "      <td>62.000000</td>\n",
       "      <td>0.000000</td>\n",
       "      <td>0.000000</td>\n",
       "      <td>27.300000</td>\n",
       "      <td>0.243750</td>\n",
       "      <td>24.000000</td>\n",
       "      <td>0.000000</td>\n",
       "    </tr>\n",
       "    <tr>\n",
       "      <th>50%</th>\n",
       "      <td>3.000000</td>\n",
       "      <td>117.000000</td>\n",
       "      <td>72.000000</td>\n",
       "      <td>23.000000</td>\n",
       "      <td>30.500000</td>\n",
       "      <td>32.000000</td>\n",
       "      <td>0.372500</td>\n",
       "      <td>29.000000</td>\n",
       "      <td>0.000000</td>\n",
       "    </tr>\n",
       "    <tr>\n",
       "      <th>75%</th>\n",
       "      <td>6.000000</td>\n",
       "      <td>140.250000</td>\n",
       "      <td>80.000000</td>\n",
       "      <td>32.000000</td>\n",
       "      <td>127.250000</td>\n",
       "      <td>36.600000</td>\n",
       "      <td>0.626250</td>\n",
       "      <td>41.000000</td>\n",
       "      <td>1.000000</td>\n",
       "    </tr>\n",
       "    <tr>\n",
       "      <th>max</th>\n",
       "      <td>17.000000</td>\n",
       "      <td>199.000000</td>\n",
       "      <td>122.000000</td>\n",
       "      <td>99.000000</td>\n",
       "      <td>846.000000</td>\n",
       "      <td>67.100000</td>\n",
       "      <td>2.420000</td>\n",
       "      <td>81.000000</td>\n",
       "      <td>1.000000</td>\n",
       "    </tr>\n",
       "  </tbody>\n",
       "</table>\n",
       "</div>"
      ],
      "text/plain": [
       "       Pregnancies     Glucose  BloodPressure  SkinThickness     Insulin  \\\n",
       "count   768.000000  768.000000     768.000000     768.000000  768.000000   \n",
       "mean      3.845052  120.894531      69.105469      20.536458   79.799479   \n",
       "std       3.369578   31.972618      19.355807      15.952218  115.244002   \n",
       "min       0.000000    0.000000       0.000000       0.000000    0.000000   \n",
       "25%       1.000000   99.000000      62.000000       0.000000    0.000000   \n",
       "50%       3.000000  117.000000      72.000000      23.000000   30.500000   \n",
       "75%       6.000000  140.250000      80.000000      32.000000  127.250000   \n",
       "max      17.000000  199.000000     122.000000      99.000000  846.000000   \n",
       "\n",
       "              BMI  DiabetesPedigreeFunction         Age     Outcome  \n",
       "count  768.000000                768.000000  768.000000  768.000000  \n",
       "mean    31.992578                  0.471876   33.240885    0.348958  \n",
       "std      7.884160                  0.331329   11.760232    0.476951  \n",
       "min      0.000000                  0.078000   21.000000    0.000000  \n",
       "25%     27.300000                  0.243750   24.000000    0.000000  \n",
       "50%     32.000000                  0.372500   29.000000    0.000000  \n",
       "75%     36.600000                  0.626250   41.000000    1.000000  \n",
       "max     67.100000                  2.420000   81.000000    1.000000  "
      ]
     },
     "execution_count": 7,
     "metadata": {},
     "output_type": "execute_result"
    }
   ],
   "source": [
    "df.describe()"
   ]
  },
  {
   "cell_type": "markdown",
   "metadata": {},
   "source": [
    "As anticipated, we see minimum measurements for Glucose, BloodPressure, SkinThickness, Insulin, and BMI of 0 which should never and is an indication that there are missing values in our dataset which we need to handle. We also see extreme maximum values which might be considered outliers and will also need to be handled."
   ]
  },
  {
   "cell_type": "code",
   "execution_count": 8,
   "metadata": {},
   "outputs": [
    {
     "name": "stdout",
     "output_type": "stream",
     "text": [
      "Number of rows with 0 values for each variable\n",
      "Glucose: 5\n",
      "BloodPressure: 35\n",
      "SkinThickness: 227\n",
      "Insulin: 374\n",
      "BMI: 11\n",
      "DiabetesPedigreeFunction: 0\n"
     ]
    }
   ],
   "source": [
    "####Let's take a look at how many 0 values there are in each column to understand the extent of the problem:\n",
    "\n",
    "print(\"Number of rows with 0 values for each variable\")\n",
    "for col in df.columns[1:7]:\n",
    "    missing_rows = df.loc[df[col]==0].shape[0]\n",
    "    print(col + \": \" + str(missing_rows))"
   ]
  },
  {
   "cell_type": "markdown",
   "metadata": {},
   "source": [
    "In the Insulin column, there are 374 rows with 0 values, i.e. almost half of the data that we have. Clearly, we cannot discard these rows with 0 values as that will cause a significant drop in model performance.Note that pregnancy and outcome were left out since 0 values in these columns are perfectly valid.\n",
    "Since the missing values comes from continuous variables such as Glucose, BloodPressure, SkinThickness, Insulin, and BMI, we will replace the missing values with the mean of the non-missing values. We do this by first using mask method to make all 0 to np.nan, then fillna with the mean values."
   ]
  },
  {
   "cell_type": "code",
   "execution_count": 9,
   "metadata": {},
   "outputs": [],
   "source": [
    "for col in df.columns[1:7]:\n",
    "    df[col]=df[col].mask(df[col]==0).fillna(df[col].mean())\n",
    "    \n",
    "#Alternative\n",
    "#df['Glucose'] = df['Glucose'].replace(0, np.nan)\n",
    "#df['Glucose'] = df['Glucose'].fillna(df['Glucose'].mean())"
   ]
  },
  {
   "cell_type": "code",
   "execution_count": 10,
   "metadata": {},
   "outputs": [
    {
     "name": "stdout",
     "output_type": "stream",
     "text": [
      "Number of rows with 0 values for each variable\n",
      "Glucose: 0\n",
      "BloodPressure: 0\n",
      "SkinThickness: 0\n",
      "Insulin: 0\n",
      "BMI: 0\n",
      "DiabetesPedigreeFunction: 0\n"
     ]
    }
   ],
   "source": [
    "# lets recheck if missing values handled\n",
    "print(\"Number of rows with 0 values for each variable\")\n",
    "for col in df.columns[1:7]:\n",
    "    missing_rows = df.loc[df[col]==0].shape[0]\n",
    "    print(col + \": \" + str(missing_rows))"
   ]
  },
  {
   "cell_type": "markdown",
   "metadata": {},
   "source": [
    "#### Data Standardization\n",
    "The goal of data standardization is to transform the numeric variables so that each variable has zero mean and unit variance.\n",
    "\n",
    "As we have seen earlier,some of the variables have vastly different scales; for instance, the maximum value for Insulin is 846 while that of DiabetesPedigreeeFunction is only 2.42. With such different scales, the variable with the greater scale tends to dominate when training the neural network, causing the neural network to inadvertently place more emphasis on the variable with a greater scale."
   ]
  },
  {
   "cell_type": "code",
   "execution_count": 11,
   "metadata": {},
   "outputs": [],
   "source": [
    "#To standardize our data, we can use the preprocessing class from scikit-learn\n",
    "from sklearn import preprocessing\n",
    "\n",
    "df_scaled = preprocessing.scale(df)\n",
    "df_scaled = pd.DataFrame(df_scaled, columns=df.columns) #to convert back to pandas DataFrame\n",
    "df_scaled['Outcome'] = df['Outcome'] #maintain original Outcome column which isn't to be scaled\n",
    "df = df_scaled #rename scaled DataFrame as df"
   ]
  },
  {
   "cell_type": "code",
   "execution_count": 12,
   "metadata": {
    "scrolled": true
   },
   "outputs": [
    {
     "data": {
      "text/html": [
       "<div>\n",
       "<style scoped>\n",
       "    .dataframe tbody tr th:only-of-type {\n",
       "        vertical-align: middle;\n",
       "    }\n",
       "\n",
       "    .dataframe tbody tr th {\n",
       "        vertical-align: top;\n",
       "    }\n",
       "\n",
       "    .dataframe thead th {\n",
       "        text-align: right;\n",
       "    }\n",
       "</style>\n",
       "<table border=\"1\" class=\"dataframe\">\n",
       "  <thead>\n",
       "    <tr style=\"text-align: right;\">\n",
       "      <th></th>\n",
       "      <th>Pregnancies</th>\n",
       "      <th>Glucose</th>\n",
       "      <th>BloodPressure</th>\n",
       "      <th>SkinThickness</th>\n",
       "      <th>Insulin</th>\n",
       "      <th>BMI</th>\n",
       "      <th>DiabetesPedigreeFunction</th>\n",
       "      <th>Age</th>\n",
       "      <th>Outcome</th>\n",
       "    </tr>\n",
       "  </thead>\n",
       "  <tbody>\n",
       "    <tr>\n",
       "      <th>count</th>\n",
       "      <td>768.00</td>\n",
       "      <td>768.00</td>\n",
       "      <td>768.00</td>\n",
       "      <td>768.00</td>\n",
       "      <td>768.00</td>\n",
       "      <td>768.00</td>\n",
       "      <td>768.00</td>\n",
       "      <td>768.00</td>\n",
       "      <td>768.00</td>\n",
       "    </tr>\n",
       "    <tr>\n",
       "      <th>mean</th>\n",
       "      <td>0.00</td>\n",
       "      <td>0.00</td>\n",
       "      <td>0.00</td>\n",
       "      <td>0.00</td>\n",
       "      <td>0.00</td>\n",
       "      <td>0.00</td>\n",
       "      <td>0.00</td>\n",
       "      <td>0.00</td>\n",
       "      <td>0.35</td>\n",
       "    </tr>\n",
       "    <tr>\n",
       "      <th>std</th>\n",
       "      <td>1.00</td>\n",
       "      <td>1.00</td>\n",
       "      <td>1.00</td>\n",
       "      <td>1.00</td>\n",
       "      <td>1.00</td>\n",
       "      <td>1.00</td>\n",
       "      <td>1.00</td>\n",
       "      <td>1.00</td>\n",
       "      <td>0.48</td>\n",
       "    </tr>\n",
       "    <tr>\n",
       "      <th>min</th>\n",
       "      <td>1.14</td>\n",
       "      <td>2.55</td>\n",
       "      <td>3.99</td>\n",
       "      <td>2.04</td>\n",
       "      <td>1.13</td>\n",
       "      <td>2.07</td>\n",
       "      <td>1.19</td>\n",
       "      <td>1.04</td>\n",
       "      <td>0.00</td>\n",
       "    </tr>\n",
       "    <tr>\n",
       "      <th>25%</th>\n",
       "      <td>0.84</td>\n",
       "      <td>0.72</td>\n",
       "      <td>0.68</td>\n",
       "      <td>0.63</td>\n",
       "      <td>0.42</td>\n",
       "      <td>0.72</td>\n",
       "      <td>0.69</td>\n",
       "      <td>0.79</td>\n",
       "      <td>0.00</td>\n",
       "    </tr>\n",
       "    <tr>\n",
       "      <th>50%</th>\n",
       "      <td>0.25</td>\n",
       "      <td>0.15</td>\n",
       "      <td>0.02</td>\n",
       "      <td>0.37</td>\n",
       "      <td>0.42</td>\n",
       "      <td>0.07</td>\n",
       "      <td>0.30</td>\n",
       "      <td>0.36</td>\n",
       "      <td>0.00</td>\n",
       "    </tr>\n",
       "    <tr>\n",
       "      <th>75%</th>\n",
       "      <td>0.64</td>\n",
       "      <td>0.61</td>\n",
       "      <td>0.64</td>\n",
       "      <td>0.56</td>\n",
       "      <td>0.09</td>\n",
       "      <td>0.60</td>\n",
       "      <td>0.47</td>\n",
       "      <td>0.66</td>\n",
       "      <td>1.00</td>\n",
       "    </tr>\n",
       "    <tr>\n",
       "      <th>max</th>\n",
       "      <td>3.91</td>\n",
       "      <td>2.54</td>\n",
       "      <td>4.11</td>\n",
       "      <td>7.52</td>\n",
       "      <td>7.82</td>\n",
       "      <td>5.04</td>\n",
       "      <td>5.88</td>\n",
       "      <td>4.06</td>\n",
       "      <td>1.00</td>\n",
       "    </tr>\n",
       "  </tbody>\n",
       "</table>\n",
       "</div>"
      ],
      "text/plain": [
       "       Pregnancies  Glucose  BloodPressure  SkinThickness  Insulin     BMI  \\\n",
       "count       768.00   768.00         768.00         768.00   768.00  768.00   \n",
       "mean          0.00     0.00           0.00           0.00     0.00    0.00   \n",
       "std           1.00     1.00           1.00           1.00     1.00    1.00   \n",
       "min           1.14     2.55           3.99           2.04     1.13    2.07   \n",
       "25%           0.84     0.72           0.68           0.63     0.42    0.72   \n",
       "50%           0.25     0.15           0.02           0.37     0.42    0.07   \n",
       "75%           0.64     0.61           0.64           0.56     0.09    0.60   \n",
       "max           3.91     2.54           4.11           7.52     7.82    5.04   \n",
       "\n",
       "       DiabetesPedigreeFunction     Age  Outcome  \n",
       "count                    768.00  768.00   768.00  \n",
       "mean                       0.00    0.00     0.35  \n",
       "std                        1.00    1.00     0.48  \n",
       "min                        1.19    1.04     0.00  \n",
       "25%                        0.69    0.79     0.00  \n",
       "50%                        0.30    0.36     0.00  \n",
       "75%                        0.47    0.66     1.00  \n",
       "max                        5.88    4.06     1.00  "
      ]
     },
     "execution_count": 12,
     "metadata": {},
     "output_type": "execute_result"
    }
   ],
   "source": [
    "# let's check if each variable now has zero mean, unit variance(std) & is scaled.\n",
    "\n",
    "#df.describe().loc[['mean', 'std','max'],].round(2).abs()\n",
    "df.describe().round(2).abs()"
   ]
  },
  {
   "cell_type": "markdown",
   "metadata": {},
   "source": [
    "#### Training, Testing, and Validation Sets\n",
    "The last step in data preprocessing is to split the data into training, testing, and validation sets:\n",
    "* Training set: The neural network will be trained on this subset of the data.\n",
    "* Validation set: This set of data allows us to perform hyperparameter tuning (that is, tuning the number of hidden layers) using an unbiased source of data.\n",
    "* Testing set: The final evaluation of the neural network will be based on this subset of the data."
   ]
  },
  {
   "cell_type": "code",
   "execution_count": 13,
   "metadata": {},
   "outputs": [],
   "source": [
    "from sklearn.model_selection import train_test_split\n",
    "\n",
    "#### Create X (input features) and y (target variable)\n",
    "X = df.loc[:, df.columns != 'Outcome']\n",
    "y = df.loc[:, 'Outcome']\n",
    "\n",
    "#### split the data into the training set (80%) and the testing set (20%)\n",
    "X_train, X_test, y_train, y_test = train_test_split(X, y, test_size=0.2)\n",
    "\n",
    "#### create the final training set and the validation set:\n",
    "#X_train, X_val, y_train, y_val = train_test_split(X_train, y_train, test_size=0.2)"
   ]
  },
  {
   "cell_type": "markdown",
   "metadata": {},
   "source": [
    "### Designing the Neural Network Architecture (MLPs)"
   ]
  },
  {
   "cell_type": "code",
   "execution_count": 14,
   "metadata": {},
   "outputs": [
    {
     "name": "stdout",
     "output_type": "stream",
     "text": [
      "WARNING:tensorflow:From C:\\Users\\pbamo\\anaconda3\\lib\\site-packages\\tensorflow\\python\\ops\\init_ops.py:1251: calling VarianceScaling.__init__ (from tensorflow.python.ops.init_ops) with dtype is deprecated and will be removed in a future version.\n",
      "Instructions for updating:\n",
      "Call initializer instance with the dtype argument instead of passing it to the constructor\n",
      "WARNING:tensorflow:From C:\\Users\\pbamo\\anaconda3\\lib\\site-packages\\tensorflow\\python\\ops\\nn_impl.py:180: add_dispatch_support.<locals>.wrapper (from tensorflow.python.ops.array_ops) is deprecated and will be removed in a future version.\n",
      "Instructions for updating:\n",
      "Use tf.where in 2.0, which has the same broadcast rule as np.where\n",
      "Epoch 1/200\n",
      "614/614 [==============================] - 0s 250us/sample - loss: 0.6497 - acc: 0.6564\n",
      "Epoch 2/200\n",
      "614/614 [==============================] - 0s 59us/sample - loss: 0.6020 - acc: 0.7410\n",
      "Epoch 3/200\n",
      "614/614 [==============================] - 0s 55us/sample - loss: 0.5593 - acc: 0.7655\n",
      "Epoch 4/200\n",
      "614/614 [==============================] - 0s 57us/sample - loss: 0.5217 - acc: 0.7687\n",
      "Epoch 5/200\n",
      "614/614 [==============================] - 0s 54us/sample - loss: 0.4945 - acc: 0.7801\n",
      "Epoch 6/200\n",
      "614/614 [==============================] - 0s 51us/sample - loss: 0.4778 - acc: 0.7801\n",
      "Epoch 7/200\n",
      "614/614 [==============================] - 0s 55us/sample - loss: 0.4660 - acc: 0.7932\n",
      "Epoch 8/200\n",
      "614/614 [==============================] - 0s 55us/sample - loss: 0.4572 - acc: 0.7834\n",
      "Epoch 9/200\n",
      "614/614 [==============================] - 0s 57us/sample - loss: 0.4501 - acc: 0.7866\n",
      "Epoch 10/200\n",
      "614/614 [==============================] - 0s 55us/sample - loss: 0.4451 - acc: 0.7866\n",
      "Epoch 11/200\n",
      "614/614 [==============================] - 0s 55us/sample - loss: 0.4408 - acc: 0.7883\n",
      "Epoch 12/200\n",
      "614/614 [==============================] - 0s 57us/sample - loss: 0.4366 - acc: 0.7948\n",
      "Epoch 13/200\n",
      "614/614 [==============================] - 0s 60us/sample - loss: 0.4318 - acc: 0.7932\n",
      "Epoch 14/200\n",
      "614/614 [==============================] - 0s 57us/sample - loss: 0.4289 - acc: 0.7932\n",
      "Epoch 15/200\n",
      "614/614 [==============================] - 0s 59us/sample - loss: 0.4266 - acc: 0.7948\n",
      "Epoch 16/200\n",
      "614/614 [==============================] - 0s 62us/sample - loss: 0.4223 - acc: 0.7964\n",
      "Epoch 17/200\n",
      "614/614 [==============================] - 0s 62us/sample - loss: 0.4193 - acc: 0.8046\n",
      "Epoch 18/200\n",
      "614/614 [==============================] - 0s 59us/sample - loss: 0.4171 - acc: 0.7964\n",
      "Epoch 19/200\n",
      "614/614 [==============================] - 0s 55us/sample - loss: 0.4141 - acc: 0.8013\n",
      "Epoch 20/200\n",
      "614/614 [==============================] - 0s 55us/sample - loss: 0.4119 - acc: 0.7980\n",
      "Epoch 21/200\n",
      "614/614 [==============================] - 0s 55us/sample - loss: 0.4103 - acc: 0.7980\n",
      "Epoch 22/200\n",
      "614/614 [==============================] - 0s 59us/sample - loss: 0.4071 - acc: 0.8046\n",
      "Epoch 23/200\n",
      "614/614 [==============================] - 0s 60us/sample - loss: 0.4050 - acc: 0.8078\n",
      "Epoch 24/200\n",
      "614/614 [==============================] - 0s 55us/sample - loss: 0.4033 - acc: 0.8078\n",
      "Epoch 25/200\n",
      "614/614 [==============================] - 0s 62us/sample - loss: 0.4013 - acc: 0.8078\n",
      "Epoch 26/200\n",
      "614/614 [==============================] - 0s 55us/sample - loss: 0.3994 - acc: 0.8127\n",
      "Epoch 27/200\n",
      "614/614 [==============================] - 0s 55us/sample - loss: 0.3980 - acc: 0.8111\n",
      "Epoch 28/200\n",
      "614/614 [==============================] - 0s 62us/sample - loss: 0.3964 - acc: 0.8176\n",
      "Epoch 29/200\n",
      "614/614 [==============================] - 0s 57us/sample - loss: 0.3941 - acc: 0.8225\n",
      "Epoch 30/200\n",
      "614/614 [==============================] - 0s 55us/sample - loss: 0.3928 - acc: 0.8208\n",
      "Epoch 31/200\n",
      "614/614 [==============================] - 0s 59us/sample - loss: 0.3921 - acc: 0.8241\n",
      "Epoch 32/200\n",
      "614/614 [==============================] - 0s 60us/sample - loss: 0.3892 - acc: 0.8208\n",
      "Epoch 33/200\n",
      "614/614 [==============================] - 0s 57us/sample - loss: 0.3884 - acc: 0.8225\n",
      "Epoch 34/200\n",
      "614/614 [==============================] - 0s 59us/sample - loss: 0.3865 - acc: 0.8208\n",
      "Epoch 35/200\n",
      "614/614 [==============================] - 0s 52us/sample - loss: 0.3864 - acc: 0.8225\n",
      "Epoch 36/200\n",
      "614/614 [==============================] - 0s 59us/sample - loss: 0.3846 - acc: 0.8322\n",
      "Epoch 37/200\n",
      "614/614 [==============================] - 0s 55us/sample - loss: 0.3821 - acc: 0.8257\n",
      "Epoch 38/200\n",
      "614/614 [==============================] - 0s 60us/sample - loss: 0.3810 - acc: 0.8225\n",
      "Epoch 39/200\n",
      "614/614 [==============================] - 0s 59us/sample - loss: 0.3806 - acc: 0.8290\n",
      "Epoch 40/200\n",
      "614/614 [==============================] - 0s 59us/sample - loss: 0.3779 - acc: 0.8355\n",
      "Epoch 41/200\n",
      "614/614 [==============================] - 0s 68us/sample - loss: 0.3772 - acc: 0.8339\n",
      "Epoch 42/200\n",
      "614/614 [==============================] - 0s 55us/sample - loss: 0.3760 - acc: 0.8322\n",
      "Epoch 43/200\n",
      "614/614 [==============================] - 0s 62us/sample - loss: 0.3743 - acc: 0.8290\n",
      "Epoch 44/200\n",
      "614/614 [==============================] - 0s 62us/sample - loss: 0.3733 - acc: 0.8274\n",
      "Epoch 45/200\n",
      "614/614 [==============================] - 0s 67us/sample - loss: 0.3710 - acc: 0.8306\n",
      "Epoch 46/200\n",
      "614/614 [==============================] - 0s 55us/sample - loss: 0.3701 - acc: 0.8322\n",
      "Epoch 47/200\n",
      "614/614 [==============================] - 0s 60us/sample - loss: 0.3680 - acc: 0.8355\n",
      "Epoch 48/200\n",
      "614/614 [==============================] - 0s 57us/sample - loss: 0.3682 - acc: 0.8388\n",
      "Epoch 49/200\n",
      "614/614 [==============================] - 0s 59us/sample - loss: 0.3672 - acc: 0.8339\n",
      "Epoch 50/200\n",
      "614/614 [==============================] - 0s 60us/sample - loss: 0.3645 - acc: 0.8339\n",
      "Epoch 51/200\n",
      "614/614 [==============================] - 0s 55us/sample - loss: 0.3646 - acc: 0.8355\n",
      "Epoch 52/200\n",
      "614/614 [==============================] - 0s 49us/sample - loss: 0.3628 - acc: 0.8355\n",
      "Epoch 53/200\n",
      "614/614 [==============================] - 0s 54us/sample - loss: 0.3605 - acc: 0.8388\n",
      "Epoch 54/200\n",
      "614/614 [==============================] - 0s 49us/sample - loss: 0.3587 - acc: 0.8339\n",
      "Epoch 55/200\n",
      "614/614 [==============================] - 0s 54us/sample - loss: 0.3584 - acc: 0.8306\n",
      "Epoch 56/200\n",
      "614/614 [==============================] - 0s 52us/sample - loss: 0.3590 - acc: 0.8371\n",
      "Epoch 57/200\n",
      "614/614 [==============================] - 0s 59us/sample - loss: 0.3564 - acc: 0.8355\n",
      "Epoch 58/200\n",
      "614/614 [==============================] - 0s 59us/sample - loss: 0.3538 - acc: 0.8355\n",
      "Epoch 59/200\n",
      "614/614 [==============================] - 0s 52us/sample - loss: 0.3525 - acc: 0.8404\n",
      "Epoch 60/200\n",
      "614/614 [==============================] - 0s 50us/sample - loss: 0.3520 - acc: 0.8404\n",
      "Epoch 61/200\n",
      "614/614 [==============================] - 0s 54us/sample - loss: 0.3502 - acc: 0.8420\n",
      "Epoch 62/200\n",
      "614/614 [==============================] - 0s 52us/sample - loss: 0.3492 - acc: 0.8355\n",
      "Epoch 63/200\n",
      "614/614 [==============================] - 0s 57us/sample - loss: 0.3498 - acc: 0.8339\n",
      "Epoch 64/200\n",
      "614/614 [==============================] - 0s 50us/sample - loss: 0.3465 - acc: 0.8355\n",
      "Epoch 65/200\n",
      "614/614 [==============================] - 0s 54us/sample - loss: 0.3451 - acc: 0.8404\n",
      "Epoch 66/200\n",
      "614/614 [==============================] - 0s 50us/sample - loss: 0.3432 - acc: 0.8469\n",
      "Epoch 67/200\n",
      "614/614 [==============================] - 0s 59us/sample - loss: 0.3446 - acc: 0.8420\n",
      "Epoch 68/200\n",
      "614/614 [==============================] - 0s 52us/sample - loss: 0.3418 - acc: 0.8404\n",
      "Epoch 69/200\n",
      "614/614 [==============================] - 0s 55us/sample - loss: 0.3406 - acc: 0.8371\n",
      "Epoch 70/200\n",
      "614/614 [==============================] - 0s 47us/sample - loss: 0.3392 - acc: 0.8420\n",
      "Epoch 71/200\n",
      "614/614 [==============================] - 0s 54us/sample - loss: 0.3375 - acc: 0.8436\n",
      "Epoch 72/200\n",
      "614/614 [==============================] - 0s 52us/sample - loss: 0.3371 - acc: 0.8453\n",
      "Epoch 73/200\n",
      "614/614 [==============================] - 0s 60us/sample - loss: 0.3359 - acc: 0.8502\n",
      "Epoch 74/200\n",
      "614/614 [==============================] - 0s 64us/sample - loss: 0.3347 - acc: 0.8453\n",
      "Epoch 75/200\n",
      "614/614 [==============================] - 0s 55us/sample - loss: 0.3333 - acc: 0.8485\n",
      "Epoch 76/200\n"
     ]
    },
    {
     "name": "stdout",
     "output_type": "stream",
     "text": [
      "614/614 [==============================] - 0s 52us/sample - loss: 0.3319 - acc: 0.8502\n",
      "Epoch 77/200\n",
      "614/614 [==============================] - 0s 54us/sample - loss: 0.3303 - acc: 0.8534\n",
      "Epoch 78/200\n",
      "614/614 [==============================] - 0s 51us/sample - loss: 0.3308 - acc: 0.8550\n",
      "Epoch 79/200\n",
      "614/614 [==============================] - 0s 54us/sample - loss: 0.3292 - acc: 0.8567\n",
      "Epoch 80/200\n",
      "614/614 [==============================] - 0s 50us/sample - loss: 0.3285 - acc: 0.8632\n",
      "Epoch 81/200\n",
      "614/614 [==============================] - 0s 52us/sample - loss: 0.3272 - acc: 0.8518\n",
      "Epoch 82/200\n",
      "614/614 [==============================] - 0s 50us/sample - loss: 0.3261 - acc: 0.8599\n",
      "Epoch 83/200\n",
      "614/614 [==============================] - 0s 54us/sample - loss: 0.3245 - acc: 0.8616\n",
      "Epoch 84/200\n",
      "614/614 [==============================] - 0s 50us/sample - loss: 0.3221 - acc: 0.8632\n",
      "Epoch 85/200\n",
      "614/614 [==============================] - 0s 52us/sample - loss: 0.3207 - acc: 0.8616\n",
      "Epoch 86/200\n",
      "614/614 [==============================] - 0s 49us/sample - loss: 0.3213 - acc: 0.8648\n",
      "Epoch 87/200\n",
      "614/614 [==============================] - 0s 47us/sample - loss: 0.3207 - acc: 0.8681\n",
      "Epoch 88/200\n",
      "614/614 [==============================] - 0s 52us/sample - loss: 0.3176 - acc: 0.8681\n",
      "Epoch 89/200\n",
      "614/614 [==============================] - 0s 52us/sample - loss: 0.3158 - acc: 0.8697\n",
      "Epoch 90/200\n",
      "614/614 [==============================] - 0s 50us/sample - loss: 0.3162 - acc: 0.8697\n",
      "Epoch 91/200\n",
      "614/614 [==============================] - 0s 52us/sample - loss: 0.3140 - acc: 0.8697\n",
      "Epoch 92/200\n",
      "614/614 [==============================] - 0s 52us/sample - loss: 0.3142 - acc: 0.8648\n",
      "Epoch 93/200\n",
      "614/614 [==============================] - 0s 52us/sample - loss: 0.3130 - acc: 0.8713\n",
      "Epoch 94/200\n",
      "614/614 [==============================] - 0s 55us/sample - loss: 0.3116 - acc: 0.8632\n",
      "Epoch 95/200\n",
      "614/614 [==============================] - 0s 59us/sample - loss: 0.3126 - acc: 0.8730\n",
      "Epoch 96/200\n",
      "614/614 [==============================] - 0s 55us/sample - loss: 0.3120 - acc: 0.8664\n",
      "Epoch 97/200\n",
      "614/614 [==============================] - 0s 52us/sample - loss: 0.3090 - acc: 0.8697\n",
      "Epoch 98/200\n",
      "614/614 [==============================] - 0s 54us/sample - loss: 0.3085 - acc: 0.8664\n",
      "Epoch 99/200\n",
      "614/614 [==============================] - 0s 52us/sample - loss: 0.3053 - acc: 0.8697\n",
      "Epoch 100/200\n",
      "614/614 [==============================] - 0s 56us/sample - loss: 0.3049 - acc: 0.8746\n",
      "Epoch 101/200\n",
      "614/614 [==============================] - 0s 51us/sample - loss: 0.3033 - acc: 0.8697\n",
      "Epoch 102/200\n",
      "614/614 [==============================] - 0s 59us/sample - loss: 0.3027 - acc: 0.8697\n",
      "Epoch 103/200\n",
      "614/614 [==============================] - 0s 59us/sample - loss: 0.3010 - acc: 0.8746\n",
      "Epoch 104/200\n",
      "614/614 [==============================] - 0s 60us/sample - loss: 0.3003 - acc: 0.8779\n",
      "Epoch 105/200\n",
      "614/614 [==============================] - 0s 55us/sample - loss: 0.2986 - acc: 0.8730\n",
      "Epoch 106/200\n",
      "614/614 [==============================] - 0s 54us/sample - loss: 0.2983 - acc: 0.8713\n",
      "Epoch 107/200\n",
      "614/614 [==============================] - 0s 52us/sample - loss: 0.2972 - acc: 0.8730\n",
      "Epoch 108/200\n",
      "614/614 [==============================] - 0s 54us/sample - loss: 0.2963 - acc: 0.8730\n",
      "Epoch 109/200\n",
      "614/614 [==============================] - 0s 54us/sample - loss: 0.2962 - acc: 0.8730\n",
      "Epoch 110/200\n",
      "614/614 [==============================] - 0s 52us/sample - loss: 0.2948 - acc: 0.8811\n",
      "Epoch 111/200\n",
      "614/614 [==============================] - 0s 50us/sample - loss: 0.2948 - acc: 0.8713\n",
      "Epoch 112/200\n",
      "614/614 [==============================] - 0s 52us/sample - loss: 0.2906 - acc: 0.8795\n",
      "Epoch 113/200\n",
      "614/614 [==============================] - 0s 49us/sample - loss: 0.2951 - acc: 0.8795\n",
      "Epoch 114/200\n",
      "614/614 [==============================] - 0s 50us/sample - loss: 0.2913 - acc: 0.8779\n",
      "Epoch 115/200\n",
      "614/614 [==============================] - 0s 50us/sample - loss: 0.2885 - acc: 0.8811\n",
      "Epoch 116/200\n",
      "614/614 [==============================] - 0s 49us/sample - loss: 0.2886 - acc: 0.8827\n",
      "Epoch 117/200\n",
      "614/614 [==============================] - 0s 50us/sample - loss: 0.2862 - acc: 0.8811\n",
      "Epoch 118/200\n",
      "614/614 [==============================] - 0s 50us/sample - loss: 0.2864 - acc: 0.8795\n",
      "Epoch 119/200\n",
      "614/614 [==============================] - 0s 50us/sample - loss: 0.2849 - acc: 0.8860\n",
      "Epoch 120/200\n",
      "614/614 [==============================] - 0s 55us/sample - loss: 0.2821 - acc: 0.8844\n",
      "Epoch 121/200\n",
      "614/614 [==============================] - 0s 54us/sample - loss: 0.2809 - acc: 0.8844\n",
      "Epoch 122/200\n",
      "614/614 [==============================] - 0s 55us/sample - loss: 0.2805 - acc: 0.8860\n",
      "Epoch 123/200\n",
      "614/614 [==============================] - 0s 55us/sample - loss: 0.2801 - acc: 0.8844\n",
      "Epoch 124/200\n",
      "614/614 [==============================] - 0s 52us/sample - loss: 0.2793 - acc: 0.8860\n",
      "Epoch 125/200\n",
      "614/614 [==============================] - 0s 54us/sample - loss: 0.2773 - acc: 0.8876\n",
      "Epoch 126/200\n",
      "614/614 [==============================] - 0s 52us/sample - loss: 0.2771 - acc: 0.8876\n",
      "Epoch 127/200\n",
      "614/614 [==============================] - 0s 57us/sample - loss: 0.2757 - acc: 0.8876\n",
      "Epoch 128/200\n",
      "614/614 [==============================] - 0s 52us/sample - loss: 0.2746 - acc: 0.8876\n",
      "Epoch 129/200\n",
      "614/614 [==============================] - 0s 55us/sample - loss: 0.2761 - acc: 0.8893\n",
      "Epoch 130/200\n",
      "614/614 [==============================] - 0s 49us/sample - loss: 0.2735 - acc: 0.8876\n",
      "Epoch 131/200\n",
      "614/614 [==============================] - 0s 52us/sample - loss: 0.2718 - acc: 0.8925\n",
      "Epoch 132/200\n",
      "614/614 [==============================] - 0s 50us/sample - loss: 0.2711 - acc: 0.8958\n",
      "Epoch 133/200\n",
      "614/614 [==============================] - 0s 50us/sample - loss: 0.2698 - acc: 0.8958\n",
      "Epoch 134/200\n",
      "614/614 [==============================] - 0s 59us/sample - loss: 0.2718 - acc: 0.8909\n",
      "Epoch 135/200\n",
      "614/614 [==============================] - 0s 62us/sample - loss: 0.2683 - acc: 0.8958\n",
      "Epoch 136/200\n",
      "614/614 [==============================] - 0s 50us/sample - loss: 0.2663 - acc: 0.8958\n",
      "Epoch 137/200\n",
      "614/614 [==============================] - 0s 54us/sample - loss: 0.2656 - acc: 0.8925\n",
      "Epoch 138/200\n",
      "614/614 [==============================] - 0s 50us/sample - loss: 0.2677 - acc: 0.8941\n",
      "Epoch 139/200\n",
      "614/614 [==============================] - 0s 52us/sample - loss: 0.2657 - acc: 0.8990\n",
      "Epoch 140/200\n",
      "614/614 [==============================] - 0s 49us/sample - loss: 0.2653 - acc: 0.8958\n",
      "Epoch 141/200\n",
      "614/614 [==============================] - 0s 50us/sample - loss: 0.2633 - acc: 0.8974\n",
      "Epoch 142/200\n",
      "614/614 [==============================] - 0s 49us/sample - loss: 0.2619 - acc: 0.8974\n",
      "Epoch 143/200\n",
      "614/614 [==============================] - 0s 54us/sample - loss: 0.2612 - acc: 0.8941\n",
      "Epoch 144/200\n",
      "614/614 [==============================] - 0s 60us/sample - loss: 0.2593 - acc: 0.8990\n",
      "Epoch 145/200\n",
      "614/614 [==============================] - 0s 55us/sample - loss: 0.2590 - acc: 0.9023\n",
      "Epoch 146/200\n",
      "614/614 [==============================] - 0s 52us/sample - loss: 0.2579 - acc: 0.9039\n",
      "Epoch 147/200\n",
      "614/614 [==============================] - 0s 54us/sample - loss: 0.2592 - acc: 0.8941\n",
      "Epoch 148/200\n",
      "614/614 [==============================] - 0s 52us/sample - loss: 0.2550 - acc: 0.9039\n",
      "Epoch 149/200\n",
      "614/614 [==============================] - 0s 55us/sample - loss: 0.2550 - acc: 0.9055\n",
      "Epoch 150/200\n",
      "614/614 [==============================] - 0s 59us/sample - loss: 0.2543 - acc: 0.9023\n",
      "Epoch 151/200\n",
      "614/614 [==============================] - 0s 59us/sample - loss: 0.2548 - acc: 0.8990\n",
      "Epoch 152/200\n",
      "614/614 [==============================] - 0s 59us/sample - loss: 0.2517 - acc: 0.9023\n",
      "Epoch 153/200\n",
      "614/614 [==============================] - 0s 55us/sample - loss: 0.2521 - acc: 0.9023\n",
      "Epoch 154/200\n",
      "614/614 [==============================] - 0s 55us/sample - loss: 0.2512 - acc: 0.9055\n",
      "Epoch 155/200\n",
      "614/614 [==============================] - 0s 49us/sample - loss: 0.2494 - acc: 0.9039\n",
      "Epoch 156/200\n",
      "614/614 [==============================] - 0s 65us/sample - loss: 0.2479 - acc: 0.9055\n",
      "Epoch 157/200\n",
      "614/614 [==============================] - 0s 47us/sample - loss: 0.2473 - acc: 0.9039\n",
      "Epoch 158/200\n",
      "614/614 [==============================] - 0s 54us/sample - loss: 0.2479 - acc: 0.9121\n",
      "Epoch 159/200\n",
      "614/614 [==============================] - 0s 55us/sample - loss: 0.2476 - acc: 0.9088\n",
      "Epoch 160/200\n",
      "614/614 [==============================] - 0s 52us/sample - loss: 0.2475 - acc: 0.8958\n",
      "Epoch 161/200\n",
      "614/614 [==============================] - 0s 52us/sample - loss: 0.2451 - acc: 0.9007\n",
      "Epoch 162/200\n",
      "614/614 [==============================] - 0s 55us/sample - loss: 0.2427 - acc: 0.9121\n",
      "Epoch 163/200\n",
      "614/614 [==============================] - 0s 54us/sample - loss: 0.2435 - acc: 0.9104\n",
      "Epoch 164/200\n",
      "614/614 [==============================] - 0s 64us/sample - loss: 0.2425 - acc: 0.9055\n",
      "Epoch 165/200\n",
      "614/614 [==============================] - 0s 59us/sample - loss: 0.2421 - acc: 0.9121\n",
      "Epoch 166/200\n",
      "614/614 [==============================] - 0s 57us/sample - loss: 0.2414 - acc: 0.9055\n",
      "Epoch 167/200\n",
      "614/614 [==============================] - 0s 54us/sample - loss: 0.2396 - acc: 0.9088\n",
      "Epoch 168/200\n",
      "614/614 [==============================] - 0s 64us/sample - loss: 0.2379 - acc: 0.9104\n",
      "Epoch 169/200\n",
      "614/614 [==============================] - 0s 59us/sample - loss: 0.2373 - acc: 0.9104\n",
      "Epoch 170/200\n",
      "614/614 [==============================] - 0s 49us/sample - loss: 0.2364 - acc: 0.9121\n",
      "Epoch 171/200\n",
      "614/614 [==============================] - 0s 55us/sample - loss: 0.2354 - acc: 0.9039\n",
      "Epoch 172/200\n",
      "614/614 [==============================] - 0s 52us/sample - loss: 0.2345 - acc: 0.9072\n",
      "Epoch 173/200\n",
      "614/614 [==============================] - 0s 52us/sample - loss: 0.2358 - acc: 0.9153\n",
      "Epoch 174/200\n",
      "614/614 [==============================] - 0s 50us/sample - loss: 0.2373 - acc: 0.9104\n",
      "Epoch 175/200\n",
      "614/614 [==============================] - 0s 57us/sample - loss: 0.2330 - acc: 0.9121\n",
      "Epoch 176/200\n",
      "614/614 [==============================] - 0s 52us/sample - loss: 0.2324 - acc: 0.9121\n",
      "Epoch 177/200\n",
      "614/614 [==============================] - 0s 55us/sample - loss: 0.2309 - acc: 0.9088\n",
      "Epoch 178/200\n",
      "614/614 [==============================] - 0s 62us/sample - loss: 0.2309 - acc: 0.9072\n",
      "Epoch 179/200\n",
      "614/614 [==============================] - 0s 59us/sample - loss: 0.2303 - acc: 0.9072\n",
      "Epoch 180/200\n",
      "614/614 [==============================] - 0s 55us/sample - loss: 0.2286 - acc: 0.9055\n",
      "Epoch 181/200\n",
      "614/614 [==============================] - 0s 59us/sample - loss: 0.2288 - acc: 0.9088\n",
      "Epoch 182/200\n",
      "614/614 [==============================] - 0s 59us/sample - loss: 0.2272 - acc: 0.9121\n",
      "Epoch 183/200\n",
      "614/614 [==============================] - 0s 57us/sample - loss: 0.2278 - acc: 0.9055\n",
      "Epoch 184/200\n",
      "614/614 [==============================] - 0s 54us/sample - loss: 0.2299 - acc: 0.9039\n",
      "Epoch 185/200\n",
      "614/614 [==============================] - 0s 50us/sample - loss: 0.2262 - acc: 0.9088\n",
      "Epoch 186/200\n",
      "614/614 [==============================] - 0s 54us/sample - loss: 0.2252 - acc: 0.9088\n",
      "Epoch 187/200\n",
      "614/614 [==============================] - 0s 54us/sample - loss: 0.2238 - acc: 0.9153\n",
      "Epoch 188/200\n",
      "614/614 [==============================] - 0s 52us/sample - loss: 0.2241 - acc: 0.9137\n",
      "Epoch 189/200\n",
      "614/614 [==============================] - 0s 59us/sample - loss: 0.2245 - acc: 0.9121\n",
      "Epoch 190/200\n",
      "614/614 [==============================] - 0s 55us/sample - loss: 0.2250 - acc: 0.9121\n",
      "Epoch 191/200\n",
      "614/614 [==============================] - 0s 64us/sample - loss: 0.2213 - acc: 0.9072\n",
      "Epoch 192/200\n",
      "614/614 [==============================] - 0s 59us/sample - loss: 0.2216 - acc: 0.9104\n",
      "Epoch 193/200\n",
      "614/614 [==============================] - 0s 65us/sample - loss: 0.2203 - acc: 0.9153\n",
      "Epoch 194/200\n",
      "614/614 [==============================] - 0s 60us/sample - loss: 0.2194 - acc: 0.9104\n",
      "Epoch 195/200\n",
      "614/614 [==============================] - 0s 52us/sample - loss: 0.2192 - acc: 0.9088\n",
      "Epoch 196/200\n",
      "614/614 [==============================] - 0s 54us/sample - loss: 0.2199 - acc: 0.9088\n",
      "Epoch 197/200\n",
      "614/614 [==============================] - 0s 54us/sample - loss: 0.2174 - acc: 0.9153\n",
      "Epoch 198/200\n",
      "614/614 [==============================] - 0s 70us/sample - loss: 0.2154 - acc: 0.9153\n",
      "Epoch 199/200\n",
      "614/614 [==============================] - 0s 52us/sample - loss: 0.2156 - acc: 0.9104\n",
      "Epoch 200/200\n",
      "614/614 [==============================] - 0s 54us/sample - loss: 0.2138 - acc: 0.9169\n"
     ]
    },
    {
     "data": {
      "text/plain": [
       "<tensorflow.python.keras.callbacks.History at 0x1df06996948>"
      ]
     },
     "execution_count": 14,
     "metadata": {},
     "output_type": "execute_result"
    }
   ],
   "source": [
    "#### Let's create a new Sequential() class:\n",
    "\n",
    "from tensorflow.keras.models import Sequential\n",
    "from tensorflow.keras.layers import Dense\n",
    "\n",
    "model = Sequential()\n",
    "\n",
    "#### Add first hidden layer with 32 nodes & 8 input dimensions(because there are 8 columns in X_train)\n",
    "model.add(Dense(32, activation='relu', input_dim=8))\n",
    "\n",
    "#### Add the second hidden layer\n",
    "model.add(Dense(16, activation='relu'))\n",
    "\n",
    "#### Add the output layer (using sigmoid function, which squashes the output between 0 and 1 (binary output))\n",
    "model.add(Dense(1, activation='sigmoid'))\n",
    "\n",
    "#### Compile the model\n",
    "model.compile(optimizer='adam',\n",
    "              loss='binary_crossentropy',\n",
    "              metrics=['accuracy'])\n",
    "\n",
    "#### Train the model for 200 epochs / iterations\n",
    "model.fit(X_train, y_train, epochs=200)"
   ]
  },
  {
   "cell_type": "markdown",
   "metadata": {},
   "source": [
    "As we can see, the loss decreases and the accuracy (based on the training data) increases over each epoch, as the learning algorithm continuously updates the weights and biases in the MLP according to the training data."
   ]
  },
  {
   "cell_type": "markdown",
   "metadata": {},
   "source": [
    "### Results Analysis\n",
    "Let's evaluate our model based on the testing accuracy, confusion matrix, and receiver operating characteristic (ROC) curve."
   ]
  },
  {
   "cell_type": "code",
   "execution_count": 15,
   "metadata": {},
   "outputs": [
    {
     "name": "stdout",
     "output_type": "stream",
     "text": [
      "614/614 [==============================] - 0s 77us/sample - loss: 0.2108 - acc: 0.9153\n",
      "Training Accuracy: 91.53%\n",
      "\n",
      "154/154 [==============================] - 0s 71us/sample - loss: 0.8445 - acc: 0.7208\n",
      "Testing Accuracy: 72.08%\n",
      "\n"
     ]
    }
   ],
   "source": [
    "#### Evaluate the model on the training and testing set using the evaluate() function:\n",
    "\n",
    "scores = model.evaluate(X_train, y_train)\n",
    "print(\"Training Accuracy: %.2f%%\\n\" % (scores[1]*100))\n",
    "\n",
    "scores = model.evaluate(X_test, y_test)\n",
    "print(\"Testing Accuracy: %.2f%%\\n\" % (scores[1]*100))"
   ]
  },
  {
   "cell_type": "markdown",
   "metadata": {},
   "source": [
    "The accuracy is 91.53% and 72.08% on the training set and testing set respectively. The difference in accuracy between the training and testing set isn't surprising since the model was trained on the training set. In fact, by training the model over more iterations, we can achieve 100% accuracy on the training set, but that would not be desirable as it just means that we are overfitting our model. The testing accuracy should always be used to evaluate the real-world performance of our model, as the testing set represents real-world data that the model has never seen before.\n",
    "\n",
    "The testing accuracy of 72.08% is pretty impressive for our simple MLP with just two hidden layers. What this means is that given the eight measurements from a new patient (glucose, blood pressure, insulin, and so on), our MLP is able to predict with ~72% accuracy whether that patient will develop diabetes within the next five years. In essence, we have developed our first AI agent!"
   ]
  },
  {
   "cell_type": "markdown",
   "metadata": {},
   "source": [
    "#### Confusion matrix"
   ]
  },
  {
   "cell_type": "code",
   "execution_count": 16,
   "metadata": {},
   "outputs": [
    {
     "data": {
      "image/png": "[encoded data removed]",
      "text/plain": [
       "<Figure size 432x288 with 1 Axes>"
      ]
     },
     "metadata": {
      "needs_background": "light"
     },
     "output_type": "display_data"
    }
   ],
   "source": [
    "from sklearn.metrics import confusion_matrix\n",
    "\n",
    "y_test_pred = model.predict_classes(X_test)\n",
    "c_matrix = confusion_matrix(y_test, y_test_pred)\n",
    "ax = sns.heatmap(c_matrix, annot=True, \n",
    "                 xticklabels=['No Diabetes','Diabetes'],\n",
    "                 yticklabels=['No Diabetes','Diabetes'], \n",
    "                 cbar=False, cmap='Blues')\n",
    "ax.set_xlabel(\"Prediction\")\n",
    "ax.set_ylabel(\"Actual\")\n",
    "plt.savefig('Images/c_matrix',dpi=150)"
   ]
  },
  {
   "cell_type": "markdown",
   "metadata": {},
   "source": [
    "From the preceding confusion matrix, we can see that most predictions are true negatives(80) and true positives(34), nevertheless, the 19 false negatives and 21 other false positives predictions are highly undesirable, eventhough a false negative is perhaps more damaging than a false positive. since a false negative means telling the patient that they will not develop diabetes within the next five years, when in fact they would. "
   ]
  },
  {
   "cell_type": "markdown",
   "metadata": {},
   "source": [
    "#### ROC curve\n",
    "\n",
    "The ROC curve is a plot with the True Positive Rate (TPR) on the y axis and the False Positive Rate (FPR) on the x axis. When we analyze the ROC curve, we look at the area under the curve (AUC) to evaluate the performance of the model that produced the curve. A large AUC indicates that the model is able to differentiate the respective classes with high accuracy, while a low AUC indicates that the model makes poor, often wrong predictions. A ROC curve that lies on the diagonal indicates that the model does no better than random. "
   ]
  },
  {
   "cell_type": "code",
   "execution_count": 17,
   "metadata": {},
   "outputs": [
    {
     "data": {
      "image/png": "[encoded data removed]",
      "text/plain": [
       "<Figure size 432x288 with 1 Axes>"
      ]
     },
     "metadata": {
      "needs_background": "light"
     },
     "output_type": "display_data"
    }
   ],
   "source": [
    "from sklearn.metrics import roc_curve\n",
    "\n",
    "#get predicted probabilities of each class\n",
    "y_test_pred_probs = model.predict(X_test) \n",
    "\n",
    "#roc_curve function to get the corresponding false positive rate and true positive rate for the ROC curve:\n",
    "FPR, TPR, _ = roc_curve(y_test, y_test_pred_probs)\n",
    "\n",
    "plt.plot(FPR, TPR)\n",
    "plt.plot([0,1],[0,1],'--', color='black') #diagonal line\n",
    "plt.title('ROC Curve')\n",
    "plt.xlabel('False Positive Rate')\n",
    "plt.ylabel('True Positive Rate')\n",
    "plt.savefig('Images/ROC Curve',dpi=150)"
   ]
  },
  {
   "cell_type": "markdown",
   "metadata": {},
   "source": [
    "From the preceding ROC Curve, we can see that the model performs rather well. This shows that our model is able to differentiate samples of different classes, making good predictions."
   ]
  },
  {
   "cell_type": "markdown",
   "metadata": {},
   "source": [
    "### Make individual predictions"
   ]
  },
  {
   "cell_type": "markdown",
   "metadata": {},
   "source": [
    "* Ideal Blood Glucose level: 90 - 110 md/dL\n",
    "* Ideal Blood Pressure level: 120/80 mmHg\n",
    "* Ideal BMI: 18.5 - 24.9"
   ]
  },
  {
   "cell_type": "code",
   "execution_count": 18,
   "metadata": {},
   "outputs": [],
   "source": [
    "#### Method 1\n",
    "def make_prediction(new_data):\n",
    "    data = new_data.values.reshape(1, -1)\n",
    "    data = preprocessing.scale(data)\n",
    "    prob = model.predict_proba(data)\n",
    "    if prob >= 0.2:\n",
    "        return 'This Patient is at risk'\n",
    "    else:\n",
    "        return 'This Patient is not at risk'"
   ]
  },
  {
   "cell_type": "code",
   "execution_count": 19,
   "metadata": {
    "scrolled": true
   },
   "outputs": [
    {
     "data": {
      "text/plain": [
       "'This Patient is at risk'"
      ]
     },
     "execution_count": 19,
     "metadata": {},
     "output_type": "execute_result"
    }
   ],
   "source": [
    "from collections import OrderedDict\n",
    "patient_input = OrderedDict([('Pregnancies', 4),('Glucose', 140 ),('BloodPressure', 80),\n",
    "                            ('SkinThickness', 38 ),('Insulin', 180 ),('BMI', 38 ),\n",
    "                            ('DiabetesPedigreeFunction', 0.3 ),('Age', 50 )])\n",
    "\n",
    "patient_status = pd.Series(patient_input)\n",
    "make_prediction(patient_status)"
   ]
  },
  {
   "cell_type": "code",
   "execution_count": 20,
   "metadata": {},
   "outputs": [
    {
     "data": {
      "text/plain": [
       "'This Patient is at risk'"
      ]
     },
     "execution_count": 20,
     "metadata": {},
     "output_type": "execute_result"
    }
   ],
   "source": [
    "patient_input = OrderedDict([('Pregnancies', 2),('Glucose', 100 ),('BloodPressure', 120),\n",
    "                            ('SkinThickness', 30 ),('Insulin', 100 ),('BMI', 21 ),\n",
    "                            ('DiabetesPedigreeFunction', 0 ),('Age', 40)])\n",
    "\n",
    "patient_status = pd.Series(patient_input)\n",
    "make_prediction(patient_status)"
   ]
  },
  {
   "cell_type": "code",
   "execution_count": 21,
   "metadata": {},
   "outputs": [],
   "source": [
    "#### Method_2\n",
    "def patient_stat(input_data):\n",
    "    data = preprocessing.scale(input_data)\n",
    "    y_pred = model.predict(data)\n",
    "    if y_pred == 0:\n",
    "        print('This Patient is not at risk')\n",
    "    else:\n",
    "        print('This Patient is at risk')"
   ]
  },
  {
   "cell_type": "code",
   "execution_count": 22,
   "metadata": {
    "scrolled": true
   },
   "outputs": [
    {
     "name": "stdout",
     "output_type": "stream",
     "text": [
      "This Patient is at risk\n"
     ]
    }
   ],
   "source": [
    "patient_stat([[4,140,80,38,180,38,0.3,50]])"
   ]
  },
  {
   "cell_type": "code",
   "execution_count": 23,
   "metadata": {
    "scrolled": true
   },
   "outputs": [
    {
     "name": "stdout",
     "output_type": "stream",
     "text": [
      "This Patient is at risk\n"
     ]
    }
   ],
   "source": [
    "patient_stat([[2,100,120,0,100,21,0,40]])"
   ]
  },
  {
   "cell_type": "markdown",
   "metadata": {},
   "source": [
    "From the above, I tried different patients input but did not get one for which patient was not at risk, the only case was if I increased the probability. This however isn't surprising because the model definitely needs improvement."
   ]
  },
  {
   "cell_type": "markdown",
   "metadata": {},
   "source": [
    "#### Further improvements\n",
    "\n",
    "From above, it is worth wondering if it is possible to further improve the performance of our model. How can we further improve the accuracy of our model and/or improve the false negative and false positive rate?\n",
    "\n",
    "* Feature engineering (i.e. increasing the number of features) might be an option since the Pima Indians Diabetes dataset only consists of eight features, and it can be argued that these features alone are insufficient to really predict the onset of diabetes. This should however be done carefully, since adding inappropriate features may create noise for our machine learning model, affecting the performance of our model. \n",
    "\n",
    "* On the opposite spectrum, Feature Selection (i.e. removing features) can be employed when we believe that the original dataset contains too much noise in order to improve model performance. One popular way to do feature selection is to use decision trees. Again, feature selection is also a double-edged sword that can potentially affect model performance.\n",
    "\n",
    "* Hyperparameter Tuning"
   ]
  },
  {
   "cell_type": "code",
   "execution_count": null,
   "metadata": {},
   "outputs": [],
   "source": []
  }
 ],
 "metadata": {
  "kernelspec": {
   "display_name": "Python 3",
   "language": "python",
   "name": "python3"
  },
  "language_info": {
   "codemirror_mode": {
    "name": "ipython",
    "version": 3
   },
   "file_extension": ".py",
   "mimetype": "text/x-python",
   "name": "python",
   "nbconvert_exporter": "python",
   "pygments_lexer": "ipython3",
   "version": "3.7.6"
  }
 },
 "nbformat": 4,
 "nbformat_minor": 4
}
